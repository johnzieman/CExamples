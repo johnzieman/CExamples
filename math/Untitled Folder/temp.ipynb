{
 "cells": [
  {
   "cell_type": "code",
   "execution_count": null,
   "metadata": {},
   "outputs": [
    {
     "name": "stdout",
     "output_type": "stream",
     "text": [
      "Proxy 95.104.54.227:42119 deleted.\n",
      "Proxy 185.107.205.140:57231 deleted.\n",
      "Proxy 83.174.233.94:53160 deleted.\n",
      "Proxy 117.2.17.26:53281 deleted.\n",
      "Proxy 89.121.211.242:48614 deleted.\n",
      "Proxy 202.168.158.163:32307 deleted.\n",
      "Proxy 43.245.202.120:46951 deleted.\n",
      "Proxy 118.27.13.61:3128 deleted.\n",
      "Proxy 197.242.206.64:40727 deleted.\n",
      "Proxy 125.209.99.14:33472 deleted.\n",
      "Proxy 85.238.104.235:47408 deleted.\n",
      "Proxy 103.239.254.70:61967 deleted.\n",
      "Proxy 213.172.156.167:31893 deleted.\n",
      "Proxy 181.129.140.83:46909 deleted.\n"
     ]
    }
   ],
   "source": [
    "from urllib.request import Request, urlopen\n",
    "from urllib import parse\n",
    "from bs4 import BeautifulSoup\n",
    "from fake_useragent import UserAgent\n",
    "import random\n",
    "import time\n",
    "ua = UserAgent() # From here we generate a random user agent\n",
    "proxies = [] # Will contain proxies [ip, port]\n",
    "# Main function\n",
    "def main():\n",
    "  # Retrieve latest proxies\n",
    "  proxies_req = Request('https://www.sslproxies.org/')\n",
    "  proxies_req.add_header('User-Agent', ua.random)\n",
    "  proxies_doc = urlopen(proxies_req).read().decode('utf8')\n",
    "  soup = BeautifulSoup(proxies_doc, 'html.parser')\n",
    "  proxies_table = soup.find(id='proxylisttable')\n",
    "  # Save proxies in the array\n",
    "  for row in proxies_table.tbody.find_all('tr'):\n",
    "    proxies.append({\n",
    "      'ip':   row.find_all('td')[0].string,\n",
    "      'port': row.find_all('td')[1].string\n",
    "    })\n",
    "  for n in range(1, 1000):\n",
    "    proxy_index = random_proxy()\n",
    "    proxy = proxies[proxy_index]\n",
    "    try:\n",
    "        https_proxy  = proxy['ip']+':'+ proxy['port']\n",
    "        http_proxy  = proxy['ip']+':'+ proxy['port']\n",
    "        proxyDict = {\n",
    "                      \"https\"  : https_proxy,\n",
    "                      \"http\"  : http_proxy,\n",
    "                    }\n",
    "        s = requests.session()\n",
    "        s.cookies.clear()\n",
    "        r = s.post(\n",
    "            'http://itogi.mobusiness.ru/wp-admin/admin-ajax.php?action=totalpoll', \n",
    "            proxies=proxyDict,\n",
    "            files=(\n",
    "                ('totalpoll[choices][b253f286-77d5-4cd8-9a26-1b1e8c2425d1][]', (None, '12ffe896-c65a-41d8-9bad-1df57fb84647')),\n",
    "                ('totalpoll[screen]', (None, 'vote')),\n",
    "                ('totalpoll[pollId]', (None, '136')),\n",
    "                ('totalpoll[action]', (None, 'vote')),))\n",
    "        print(r.text)\n",
    "        time.sleep(10)\n",
    "    except: # If error, delete this proxy and find another one\n",
    "      del proxies[proxy_index]\n",
    "      print('Proxy ' + proxy['ip'] + ':' + proxy['port'] + ' deleted.')\n",
    "      time.sleep(5)\n",
    "# Retrieve a random index proxy (we need the index to delete it if not working)\n",
    "def random_proxy():\n",
    "  return random.randint(0, len(proxies) - 1)\n",
    "if __name__ == '__main__':\n",
    "  main()"
   ]
  }
 ],
 "metadata": {
  "kernelspec": {
   "display_name": "Python 3",
   "language": "python",
   "name": "python3"
  },
  "language_info": {
   "codemirror_mode": {
    "name": "ipython",
    "version": 3
   },
   "file_extension": ".py",
   "mimetype": "text/x-python",
   "name": "python",
   "nbconvert_exporter": "python",
   "pygments_lexer": "ipython3",
   "version": "3.6.8"
  }
 },
 "nbformat": 4,
 "nbformat_minor": 2
}
